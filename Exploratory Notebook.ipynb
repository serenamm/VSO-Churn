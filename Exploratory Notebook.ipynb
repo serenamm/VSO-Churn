{
 "cells": [
  {
   "cell_type": "code",
   "execution_count": 60,
   "metadata": {},
   "outputs": [
    {
     "name": "stderr",
     "output_type": "stream",
     "text": [
      "C:\\Users\\Serena\\Anaconda3\\lib\\site-packages\\IPython\\core\\interactiveshell.py:2698: DtypeWarning: Columns (1,2) have mixed types. Specify dtype option on import or set low_memory=False.\n",
      "  interactivity=interactivity, compiler=compiler, result=result)\n",
      "C:\\Users\\Serena\\Anaconda3\\lib\\site-packages\\IPython\\core\\interactiveshell.py:2698: DtypeWarning: Columns (0,26,27) have mixed types. Specify dtype option on import or set low_memory=False.\n",
      "  interactivity=interactivity, compiler=compiler, result=result)\n"
     ]
    }
   ],
   "source": [
    "import pandas as pd\n",
    "import numpy as np\n",
    "\n",
    "basepath = \"E:/vsodataforSerena/\"\n",
    "\n",
    "t_address_cols = [\"address_type\",\"customer_no\",\"street1\",\n",
    "                  \"street2\",\"city\",\"state\",\"postal_code\",\"country\"]\n",
    "t_address = pd.read_csv(basepath + \"t_address.csv\", usecols = t_address_cols)\n",
    "t_subcrip_cols = [\"customer_no\",\"tot_no_of_subscription_seats\",\n",
    "                  \"date_of_last_seat_change\",\"box1_tot_subscription_price\", \"priority_code\"]\n",
    "t_cust_subscription_summary = pd.read_csv(basepath + \"t_cust_subscription_summary.csv\", usecols = t_subcrip_cols)\n",
    "t_customer_cols = [\"customer_no\",\"last_activity_dt\",\n",
    "                   \"last_ticket_dt\",\"inactive\",\"inactive_reason\"]\n",
    "t_customer = pd.read_csv(basepath + \"t_customer.csv\", usecols = t_customer_cols)\n",
    "t_order_cols = [\"customer_no\", \"solicitor\",\n",
    "                \"tot_ticket_purch_amt\", \"tot_ticket_return_amt\"]\n",
    "t_order = pd.read_csv(basepath + \"t_order.csv\", usecols = t_order_cols)"
   ]
  },
  {
   "cell_type": "markdown",
   "metadata": {},
   "source": [
    "Let's start by looking at the tables one by one. Note that the target column will be t_customer[\"inactive\"]."
   ]
  },
  {
   "cell_type": "code",
   "execution_count": 164,
   "metadata": {},
   "outputs": [
    {
     "data": {
      "text/plain": [
       "No     559641\n",
       "Yes     70018\n",
       "nan     19726\n",
       "Name: Churn?, dtype: int64"
      ]
     },
     "execution_count": 164,
     "metadata": {},
     "output_type": "execute_result"
    }
   ],
   "source": [
    "# 1.0 and 1 are active 2.0 and 2 are inactive\n",
    "# note that 1.0 means it was entered as an int, 1 means entered as a string\n",
    "#t_customer[\"Churn?\"] = np.where(t_customer[\"inactive\"] == 1.0 )\n",
    "conditions = [(t_customer[\"inactive\"] == \"1\"),(t_customer[\"inactive\"] == 1),\n",
    "              (t_customer[\"inactive\"] == \"2\"),(t_customer[\"inactive\"] == 2)]\n",
    "churn = [\"No\", \"No\", \"Yes\", \"Yes\"]\n",
    "t_customer[\"Churn?\"] = np.select(conditions, churn, default = np.nan)\n",
    "t_customer[\"Churn?\"].value_counts()"
   ]
  },
  {
   "cell_type": "markdown",
   "metadata": {
    "collapsed": true
   },
   "source": [
    "from t_address:\n",
    "- number of times moved: t_address.groupby(\"customer_no\").count()[\"address_type\"] **\n",
    "- postal code of most recent entry: for each customer: t_address[t_address[\"customer_no\"] == 9][\"postal_code\"].iloc[-1] (ex 9)\tadd_num = t_address.customer_no.unique()\n",
    "for i in add_num:\n",
    "    t_address[t_address[\"customer_no\"] == i][\"postal_code\"].iloc[-1]\n",
    "- country of most recent entry: similar to postal code\n",
    "\n",
    "from t_cust_subscription_summary:\n",
    "- priority code (most recent): t_cust_subscription_summary[t_cust_subscription_summary[\"customer_no\"] == x][\"priority_code].iloc[-1] *\n",
    "- most recent subscription seats\n",
    "- most recent box 1 total\n",
    "- total subscription seats\n",
    "- total box 1 total\n",
    "- is currently subscribed\n",
    "- box 1 total in past 6 months *** do this later\n",
    "- subscription seats in past 6 months *** do this later\n",
    "\n",
    "from t_order:\n",
    "- number of orders: like ** (total)\n",
    "- most recent solicitor: like *\n",
    "- total ticket purchase amount: sum of all orders\n",
    "- total return amount: sum \n",
    "- most recent purchase amount\n",
    "- most recent return amount\n",
    "- total purchase amount in past 6 months *** do this later\n",
    "- number of orders in past 6 months *** do this later\n",
    "- return amount in past 6 months *** do this later\n",
    "\n",
    "from t_cust:\n",
    "- inactive_reason"
   ]
  },
  {
   "cell_type": "code",
   "execution_count": 3,
   "metadata": {
    "collapsed": true
   },
   "outputs": [],
   "source": [
    "def recents(unique_customers, col, df):\n",
    "    col_output = []\n",
    "    for i in unique_customers: \n",
    "        try:\n",
    "            col_output.append(df[df[\"customer_no\"] == i][col].iloc[-1])\n",
    "        except IndexError:\n",
    "            continue\n",
    "    col_output_temp = list(zip(list(unique_customers),col_output)) # list of tuples customer_no, most recent postal_code\n",
    "    # make into series\n",
    "    col_output_temp2 = list(zip(*col_output_temp))\n",
    "    cust_w_col_output = pd.Series(col_output_temp2[1], index = col_output_temp2[0])\n",
    "    return cust_w_col_output"
   ]
  },
  {
   "cell_type": "code",
   "execution_count": 4,
   "metadata": {
    "collapsed": true
   },
   "outputs": [],
   "source": [
    "def totals(unique_customers, col, df):\n",
    "    total = []\n",
    "    for i in unique_customers: \n",
    "        try:\n",
    "            total.append(sum((df[df[\"customer_no\"] == i][col])))\n",
    "        except IndexError:\n",
    "            continue\n",
    "    col_output_temp = list(zip(list(unique_customers),total))\n",
    "    col_output_temp2 = list(zip(*col_output_temp))\n",
    "    cust_col_sum = pd.Series(col_output_temp2[1], index = col_output_temp2[0])\n",
    "    return cust_col_sum"
   ]
  },
  {
   "cell_type": "markdown",
   "metadata": {},
   "source": [
    "Current features:\n",
    "\n",
    "From t_address: Number of times moved, most recent postal code, most recent country\n",
    "\n",
    "From t_cust_subscription_summary: Most recent priority code, most recent subscription seats, most recent total purchase, lifetime seats total, lifetime box total\n",
    "- don't need \"is_subbed\" since it's just based off of other columns\n",
    "\n",
    "From t_order: total orders, most recent solicitor, lifetime purchase total, lifetime return total, most recent return, most recent purchase\n",
    "\n",
    "From t_cust: inactive_reason\n",
    "\n",
    "15 features in total.\n",
    "\n",
    "Later it'd be useful to look at activity within the past 6 months, but due to how these dataframes and done, it's a bit difficult to do this. So do preliminiary ML stuff first."
   ]
  },
  {
   "cell_type": "code",
   "execution_count": 179,
   "metadata": {},
   "outputs": [
    {
     "data": {
      "text/html": [
       "<div>\n",
       "<style>\n",
       "    .dataframe thead tr:only-child th {\n",
       "        text-align: right;\n",
       "    }\n",
       "\n",
       "    .dataframe thead th {\n",
       "        text-align: left;\n",
       "    }\n",
       "\n",
       "    .dataframe tbody tr th {\n",
       "        vertical-align: top;\n",
       "    }\n",
       "</style>\n",
       "<table border=\"1\" class=\"dataframe\">\n",
       "  <thead>\n",
       "    <tr style=\"text-align: right;\">\n",
       "      <th></th>\n",
       "      <th>last_activity_dt</th>\n",
       "      <th>last_ticket_dt</th>\n",
       "      <th>inactive</th>\n",
       "      <th>inactive_reason</th>\n",
       "      <th>Churn?</th>\n",
       "    </tr>\n",
       "    <tr>\n",
       "      <th>customer_no</th>\n",
       "      <th></th>\n",
       "      <th></th>\n",
       "      <th></th>\n",
       "      <th></th>\n",
       "      <th></th>\n",
       "    </tr>\n",
       "  </thead>\n",
       "  <tbody>\n",
       "    <tr>\n",
       "      <th>0</th>\n",
       "      <td>NaN</td>\n",
       "      <td>NaN</td>\n",
       "      <td>1</td>\n",
       "      <td>NaN</td>\n",
       "      <td>No</td>\n",
       "    </tr>\n",
       "    <tr>\n",
       "      <th>9</th>\n",
       "      <td>2016-08-24 16:48:48.000</td>\n",
       "      <td>2016-05-08 22:54:56.000</td>\n",
       "      <td>1</td>\n",
       "      <td>NaN</td>\n",
       "      <td>No</td>\n",
       "    </tr>\n",
       "    <tr>\n",
       "      <th>500</th>\n",
       "      <td>2013-08-29 16:03:04.000</td>\n",
       "      <td>2011-07-20 15:38:43.103</td>\n",
       "      <td>1</td>\n",
       "      <td>NaN</td>\n",
       "      <td>No</td>\n",
       "    </tr>\n",
       "    <tr>\n",
       "      <th>501</th>\n",
       "      <td>2013-08-29 17:14:43.100</td>\n",
       "      <td>2011-07-20 14:55:01.383</td>\n",
       "      <td>1</td>\n",
       "      <td>NaN</td>\n",
       "      <td>No</td>\n",
       "    </tr>\n",
       "    <tr>\n",
       "      <th>502</th>\n",
       "      <td>2016-08-03 17:07:26.000</td>\n",
       "      <td>2011-07-04 16:08:49.000</td>\n",
       "      <td>1</td>\n",
       "      <td>NaN</td>\n",
       "      <td>No</td>\n",
       "    </tr>\n",
       "  </tbody>\n",
       "</table>\n",
       "</div>"
      ],
      "text/plain": [
       "                    last_activity_dt           last_ticket_dt inactive  \\\n",
       "customer_no                                                              \n",
       "0                                NaN                      NaN        1   \n",
       "9            2016-08-24 16:48:48.000  2016-05-08 22:54:56.000        1   \n",
       "500          2013-08-29 16:03:04.000  2011-07-20 15:38:43.103        1   \n",
       "501          2013-08-29 17:14:43.100  2011-07-20 14:55:01.383        1   \n",
       "502          2016-08-03 17:07:26.000  2011-07-04 16:08:49.000        1   \n",
       "\n",
       "            inactive_reason Churn?  \n",
       "customer_no                         \n",
       "0                       NaN     No  \n",
       "9                       NaN     No  \n",
       "500                     NaN     No  \n",
       "501                     NaN     No  \n",
       "502                     NaN     No  "
      ]
     },
     "execution_count": 179,
     "metadata": {},
     "output_type": "execute_result"
    }
   ],
   "source": [
    "t_cust = t_customer.copy()\n",
    "t_cust.set_index(\"customer_no\", inplace = True)\n",
    "t_cust.head()"
   ]
  },
  {
   "cell_type": "code",
   "execution_count": 181,
   "metadata": {},
   "outputs": [
    {
     "data": {
      "text/plain": [
       "9"
      ]
     },
     "execution_count": 181,
     "metadata": {},
     "output_type": "execute_result"
    }
   ],
   "source": [
    "no_idx = list(t_cust[t_cust[\"Churn?\"] == \"No\"].index)\n",
    "yes_idx = list(t_cust[t_cust[\"Churn?\"] == \"Yes\"].index)"
   ]
  },
  {
   "cell_type": "code",
   "execution_count": 182,
   "metadata": {},
   "outputs": [
    {
     "name": "stdout",
     "output_type": "stream",
     "text": [
      "Churn: 38330\n",
      "No Churn: 277232\n"
     ]
    }
   ],
   "source": [
    "# Process t_address\n",
    "t_address_nochurn = t_address[t_address[\"customer_no\"].isin(no_idx)]\n",
    "t_address_yeschurn = t_address[t_address[\"customer_no\"].isin(yes_idx)]\n",
    "t_address_temp = t_address_nochurn.append(t_address_yeschurn)\n",
    "print(\"Churn: \" + str(len(t_address_yeschurn)) +\"\\nNo Churn: \" + str(len(t_address_nochurn)))"
   ]
  },
  {
   "cell_type": "code",
   "execution_count": 183,
   "metadata": {},
   "outputs": [
    {
     "name": "stdout",
     "output_type": "stream",
     "text": [
      "Churn: 1791\n",
      "No Churn: 75641\n"
     ]
    }
   ],
   "source": [
    "t_sub_nochurn = t_cust_subscription_summary[t_cust_subscription_summary[\"customer_no\"].isin(no_idx)]\n",
    "t_sub_yeschurn = t_cust_subscription_summary[t_cust_subscription_summary[\"customer_no\"].isin(yes_idx)]\n",
    "t_sub_temp = t_sub_nochurn.append(t_sub_yeschurn)\n",
    "print(\"Churn: \" + str(len(t_sub_yeschurn)) +\"\\nNo Churn: \" + str(len(t_sub_nochurn)))"
   ]
  },
  {
   "cell_type": "code",
   "execution_count": 184,
   "metadata": {},
   "outputs": [
    {
     "name": "stdout",
     "output_type": "stream",
     "text": [
      "Churn: 6662\n",
      "No Churn: 319084\n"
     ]
    }
   ],
   "source": [
    "t_order_nochurn = t_order[t_order[\"customer_no\"].isin(no_idx)]\n",
    "t_order_yeschurn = t_order[t_order[\"customer_no\"].isin(yes_idx)]\n",
    "t_order_temp = t_order_nochurn.append(t_order_yeschurn)\n",
    "print(\"Churn: \" + str(len(t_order_yeschurn)) +\"\\nNo Churn: \" + str(len(t_order_nochurn)))"
   ]
  },
  {
   "cell_type": "code",
   "execution_count": 185,
   "metadata": {},
   "outputs": [],
   "source": [
    "# Get union of indices\n",
    "address_cnum = t_address_temp.set_index(\"customer_no\")\n",
    "order_cnum = t_order_temp.set_index(\"customer_no\")\n",
    "sub_cnum = t_sub_temp.set_index(\"customer_no\")\n",
    "a_cnum = list(address_cnum.index)\n",
    "o_cnum = list(order_cnum.index)\n",
    "s_cnum = list(sub_cnum.index)\n",
    "indices = set.intersection(set(a_cnum),set(o_cnum),set(s_cnum))"
   ]
  },
  {
   "cell_type": "code",
   "execution_count": 188,
   "metadata": {},
   "outputs": [],
   "source": [
    "address_temp = t_address[t_address[\"customer_no\"].isin(indices)] \n",
    "order_temp = t_order[t_order[\"customer_no\"].isin(indices)] \n",
    "sub_temp = t_cust_subscription_summary[t_cust_subscription_summary[\"customer_no\"].isin(indices)]\n",
    "# different lengths but all have 7505 unique customer numbers, yay"
   ]
  },
  {
   "cell_type": "code",
   "execution_count": 189,
   "metadata": {},
   "outputs": [],
   "source": [
    "# Now process as before\n",
    "# t_address_temp\n",
    "unique_customers = address_temp.customer_no.unique()\n",
    "num_moves = address_temp.groupby(\"customer_no\").count()[\"address_type\"]\n",
    "cust_postalcodes = recents(unique_customers, \"postal_code\", address_temp)\n",
    "cust_countries = recents(unique_customers, \"country\", address_temp)"
   ]
  },
  {
   "cell_type": "code",
   "execution_count": 190,
   "metadata": {
    "collapsed": true
   },
   "outputs": [],
   "source": [
    "# t_cust_subscription_summary \n",
    "unique_custs_sub = sub_temp.customer_no.unique()\n",
    "cust_prioritycode = recents(unique_custs_sub, \"priority_code\", sub_temp)\n",
    "cust_prioritycode.fillna(0, inplace = True)\n",
    "# dfs\n",
    "recent_seats = recents(unique_custs_sub, \"tot_no_of_subscription_seats\", sub_temp)\n",
    "recent_sub_price = recents(unique_custs_sub, \"box1_tot_subscription_price\", sub_temp)\n",
    "total_seats = totals(unique_custs_sub, \"tot_no_of_subscription_seats\", sub_temp)\n",
    "total_sub_price = totals(unique_custs_sub, \"box1_tot_subscription_price\", sub_temp)"
   ]
  },
  {
   "cell_type": "code",
   "execution_count": 191,
   "metadata": {},
   "outputs": [
    {
     "name": "stderr",
     "output_type": "stream",
     "text": [
      "C:\\Users\\Serena\\Anaconda3\\lib\\site-packages\\ipykernel_launcher.py:2: SettingWithCopyWarning: \n",
      "A value is trying to be set on a copy of a slice from a DataFrame.\n",
      "Try using .loc[row_indexer,col_indexer] = value instead\n",
      "\n",
      "See the caveats in the documentation: http://pandas.pydata.org/pandas-docs/stable/indexing.html#indexing-view-versus-copy\n",
      "  \n"
     ]
    }
   ],
   "source": [
    "# t_order\n",
    "order_temp[\"tot_ticket_return_amt\"] = abs(order_temp[\"tot_ticket_return_amt\"])\n",
    "unique_cust_order = order_temp.customer_no.unique()\n",
    "# dfs\n",
    "num_unique_orders = order_temp.groupby(\"customer_no\").count()[\"solicitor\"]\n",
    "recent_solicitor = recents(unique_cust_order, \"solicitor\", order_temp)\n",
    "recent_purchase_amt = recents(unique_cust_order, \"tot_ticket_purch_amt\", order_temp)\n",
    "recent_return_amt = recents(unique_cust_order, \"tot_ticket_return_amt\", order_temp)\n",
    "total_purchase_amt = totals(unique_cust_order, \"tot_ticket_purch_amt\", order_temp)\n",
    "total_return_amt = totals(unique_cust_order, \"tot_ticket_return_amt\", order_temp)"
   ]
  },
  {
   "cell_type": "code",
   "execution_count": 192,
   "metadata": {
    "collapsed": true
   },
   "outputs": [],
   "source": [
    "from_address = pd.concat([num_moves, cust_postalcodes, cust_countries], axis = 1)\n",
    "address_df = pd.DataFrame(from_address)\n",
    "address_df.columns = [\"Num_Moves\",\"Postal_Code\",\"Country\"]\n",
    "from_sub = pd.concat([cust_prioritycode, recent_seats, recent_sub_price,\n",
    "                      total_seats,total_sub_price], axis = 1)\n",
    "sub_df = pd.DataFrame(from_sub)\n",
    "sub_df.columns = [\"Priority_Code\", \"Recent_Seat\", \"Recent_Sub_Price\", \"Total_Seats\",\"Total_Paid\"]\n",
    "\n",
    "from_orders = pd.concat([num_unique_orders, recent_solicitor, recent_purchase_amt,\n",
    "                  recent_return_amt,total_purchase_amt, total_return_amt], axis = 1)\n",
    "orders_df = pd.DataFrame(from_orders)\n",
    "orders_df.columns = [\"Unique_Orders\", \"Recent_Solicitor\", \"Recent_Purchase\",\n",
    "                         \"Recent_Return\", \"Total_Purchased\",\"Total_Returned\"]"
   ]
  },
  {
   "cell_type": "code",
   "execution_count": 194,
   "metadata": {},
   "outputs": [
    {
     "name": "stdout",
     "output_type": "stream",
     "text": [
      "12791\n"
     ]
    },
    {
     "data": {
      "text/html": [
       "<div>\n",
       "<style>\n",
       "    .dataframe thead tr:only-child th {\n",
       "        text-align: right;\n",
       "    }\n",
       "\n",
       "    .dataframe thead th {\n",
       "        text-align: left;\n",
       "    }\n",
       "\n",
       "    .dataframe tbody tr th {\n",
       "        vertical-align: top;\n",
       "    }\n",
       "</style>\n",
       "<table border=\"1\" class=\"dataframe\">\n",
       "  <thead>\n",
       "    <tr style=\"text-align: right;\">\n",
       "      <th></th>\n",
       "      <th>Unique_Orders</th>\n",
       "      <th>Recent_Solicitor</th>\n",
       "      <th>Recent_Purchase</th>\n",
       "      <th>Recent_Return</th>\n",
       "      <th>Total_Purchased</th>\n",
       "      <th>Total_Returned</th>\n",
       "      <th>Priority_Code</th>\n",
       "      <th>Recent_Seat</th>\n",
       "      <th>Recent_Sub_Price</th>\n",
       "      <th>Total_Seats</th>\n",
       "      <th>Total_Paid</th>\n",
       "      <th>Num_Moves</th>\n",
       "      <th>Postal_Code</th>\n",
       "      <th>Country</th>\n",
       "    </tr>\n",
       "  </thead>\n",
       "  <tbody>\n",
       "    <tr>\n",
       "      <th>9.0</th>\n",
       "      <td>11</td>\n",
       "      <td>RollOver</td>\n",
       "      <td>1269.2</td>\n",
       "      <td>739.2</td>\n",
       "      <td>NaN</td>\n",
       "      <td>NaN</td>\n",
       "      <td>8.0</td>\n",
       "      <td>0</td>\n",
       "      <td>0.0</td>\n",
       "      <td>10</td>\n",
       "      <td>596.0</td>\n",
       "      <td>5</td>\n",
       "      <td>V6B2S2</td>\n",
       "      <td>32</td>\n",
       "    </tr>\n",
       "    <tr>\n",
       "      <th>1009.0</th>\n",
       "      <td>9</td>\n",
       "      <td>RollOver</td>\n",
       "      <td>345.4</td>\n",
       "      <td>188.4</td>\n",
       "      <td>1996.3</td>\n",
       "      <td>852.0</td>\n",
       "      <td>7.0</td>\n",
       "      <td>0</td>\n",
       "      <td>0.0</td>\n",
       "      <td>3</td>\n",
       "      <td>0.0</td>\n",
       "      <td>2</td>\n",
       "      <td>V7V3X8</td>\n",
       "      <td>32</td>\n",
       "    </tr>\n",
       "    <tr>\n",
       "      <th>1178.0</th>\n",
       "      <td>1</td>\n",
       "      <td>crowe</td>\n",
       "      <td>39.0</td>\n",
       "      <td>0.0</td>\n",
       "      <td>39.0</td>\n",
       "      <td>0.0</td>\n",
       "      <td>0.0</td>\n",
       "      <td>1</td>\n",
       "      <td>0.0</td>\n",
       "      <td>1</td>\n",
       "      <td>0.0</td>\n",
       "      <td>1</td>\n",
       "      <td>V4N1A2</td>\n",
       "      <td>32</td>\n",
       "    </tr>\n",
       "    <tr>\n",
       "      <th>1359.0</th>\n",
       "      <td>5</td>\n",
       "      <td>jason</td>\n",
       "      <td>250.0</td>\n",
       "      <td>125.0</td>\n",
       "      <td>1137.0</td>\n",
       "      <td>311.0</td>\n",
       "      <td>7.0</td>\n",
       "      <td>0</td>\n",
       "      <td>0.0</td>\n",
       "      <td>5</td>\n",
       "      <td>62.0</td>\n",
       "      <td>3</td>\n",
       "      <td>V5T1J9</td>\n",
       "      <td>32</td>\n",
       "    </tr>\n",
       "    <tr>\n",
       "      <th>1377.0</th>\n",
       "      <td>1</td>\n",
       "      <td>crowe</td>\n",
       "      <td>102.0</td>\n",
       "      <td>0.0</td>\n",
       "      <td>102.0</td>\n",
       "      <td>0.0</td>\n",
       "      <td>0.0</td>\n",
       "      <td>1</td>\n",
       "      <td>0.0</td>\n",
       "      <td>1</td>\n",
       "      <td>0.0</td>\n",
       "      <td>2</td>\n",
       "      <td>V5N3P9</td>\n",
       "      <td>32</td>\n",
       "    </tr>\n",
       "  </tbody>\n",
       "</table>\n",
       "</div>"
      ],
      "text/plain": [
       "        Unique_Orders Recent_Solicitor  Recent_Purchase  Recent_Return  \\\n",
       "9.0                11         RollOver           1269.2          739.2   \n",
       "1009.0              9         RollOver            345.4          188.4   \n",
       "1178.0              1            crowe             39.0            0.0   \n",
       "1359.0              5            jason            250.0          125.0   \n",
       "1377.0              1            crowe            102.0            0.0   \n",
       "\n",
       "        Total_Purchased  Total_Returned  Priority_Code  Recent_Seat  \\\n",
       "9.0                 NaN             NaN            8.0            0   \n",
       "1009.0           1996.3           852.0            7.0            0   \n",
       "1178.0             39.0             0.0            0.0            1   \n",
       "1359.0           1137.0           311.0            7.0            0   \n",
       "1377.0            102.0             0.0            0.0            1   \n",
       "\n",
       "        Recent_Sub_Price  Total_Seats  Total_Paid  Num_Moves Postal_Code  \\\n",
       "9.0                  0.0           10       596.0          5      V6B2S2   \n",
       "1009.0               0.0            3         0.0          2      V7V3X8   \n",
       "1178.0               0.0            1         0.0          1      V4N1A2   \n",
       "1359.0               0.0            5        62.0          3      V5T1J9   \n",
       "1377.0               0.0            1         0.0          2      V5N3P9   \n",
       "\n",
       "       Country  \n",
       "9.0         32  \n",
       "1009.0      32  \n",
       "1178.0      32  \n",
       "1359.0      32  \n",
       "1377.0      32  "
      ]
     },
     "execution_count": 194,
     "metadata": {},
     "output_type": "execute_result"
    }
   ],
   "source": [
    "data = (orders_df.join(sub_df, how = 'left')).join(address_df, how = \"left\")\n",
    "print(len(data))\n",
    "data.head()"
   ]
  },
  {
   "cell_type": "code",
   "execution_count": 198,
   "metadata": {
    "collapsed": true
   },
   "outputs": [],
   "source": [
    "data2 = data.join(t_cust[\"Churn?\"], how = \"left\")"
   ]
  },
  {
   "cell_type": "code",
   "execution_count": 206,
   "metadata": {},
   "outputs": [],
   "source": [
    "data3 = data2.join(t_cust[\"inactive_reason\"], how = \"left\")\n",
    "data3[\"inactive_reason\"].fillna(0, inplace = True)"
   ]
  },
  {
   "cell_type": "code",
   "execution_count": 209,
   "metadata": {},
   "outputs": [
    {
     "data": {
      "text/plain": [
       "No     12372\n",
       "Yes      419\n",
       "Name: Churn?, dtype: int64"
      ]
     },
     "execution_count": 209,
     "metadata": {},
     "output_type": "execute_result"
    }
   ],
   "source": [
    "final_data = data3\n",
    "final_data[\"Churn?\"].value_counts()"
   ]
  },
  {
   "cell_type": "raw",
   "metadata": {},
   "source": [
    "final_data[\"Churn?\"].value_counts()\n",
    "No     12372\n",
    "Yes      419\n",
    "Name: Churn?, dtype: int64\n",
    "- I'll have to oversample the yes and undersample the no"
   ]
  },
  {
   "cell_type": "code",
   "execution_count": 215,
   "metadata": {},
   "outputs": [],
   "source": [
    "#address_df.to_csv(basepath + \"/address_df.csv\")\n",
    "#sub_df.to_csv(basepath + \"/sub_df.csv\")\n",
    "#orders_df.to_csv(basepath + \"/orders_df.csv\")\n",
    "#final_data.to_csv(basepath + \"/final_data.csv\")"
   ]
  },
  {
   "cell_type": "code",
   "execution_count": null,
   "metadata": {
    "collapsed": true
   },
   "outputs": [],
   "source": []
  }
 ],
 "metadata": {
  "kernelspec": {
   "display_name": "Python 3",
   "language": "python",
   "name": "python3"
  },
  "language_info": {
   "codemirror_mode": {
    "name": "ipython",
    "version": 3
   },
   "file_extension": ".py",
   "mimetype": "text/x-python",
   "name": "python",
   "nbconvert_exporter": "python",
   "pygments_lexer": "ipython3",
   "version": "3.6.0"
  }
 },
 "nbformat": 4,
 "nbformat_minor": 2
}
